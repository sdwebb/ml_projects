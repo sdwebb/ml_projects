{
 "cells": [
  {
   "cell_type": "markdown",
   "metadata": {},
   "source": [
    "# Random Walk Markov Chain Example\n",
    "\n",
    "This is an example problem illustrating the basics of a random walk Markov chain."
   ]
  },
  {
   "cell_type": "code",
   "execution_count": 2,
   "metadata": {},
   "outputs": [],
   "source": [
    "# Standard imports\n",
    "import datetime as dt\n",
    "from matplotlib import pyplot as plt\n",
    "import matplotlib as mpl\n",
    "import numpy as np\n",
    "import pandas as pd\n",
    "from scipy.optimize import curve_fit\n",
    "import seaborn as sns\n",
    "\n",
    "from tqdm.notebook import tqdm\n",
    "\n",
    "# needed for our loss plots\n",
    "from IPython.display import clear_output\n",
    "\n",
    "# using inline, have to set the figure bigger\n",
    "%matplotlib inline\n",
    "\n",
    "# set figure parameters so they look pretty\n",
    "import matplotlib.pylab as pylab\n",
    "\n",
    "# Use the Gill Sans font\n",
    "import matplotlib.font_manager as fm\n",
    "font = fm.FontProperties(\n",
    "       family = 'Gill Sans',\n",
    "       fname = '/usr/share/fonts/truetype/adf/GilliusADF-Regular.otf')\n",
    "params = {'legend.fontsize': 14,\n",
    "          'figure.figsize': (9.5, 6),\n",
    "         'axes.labelsize': 14,\n",
    "         'axes.titlesize': 16,\n",
    "         'xtick.labelsize': 14,\n",
    "         'ytick.labelsize': 14,\n",
    "         'axes.spines.right' : False,\n",
    "         'axes.spines.left' : False,\n",
    "         'axes.spines.top' : False,\n",
    "         'axes.spines.bottom' : False,\n",
    "         'font.family' : 'Gill Sans'}\n",
    "pylab.rcParams.update(params)\n",
    "\n",
    "# I like to have more colors than what are available, so define tableau20 colors:\n",
    "tableau20={\n",
    "    'deep_blue' : (31, 119, 180), 'light_blue' : (174, 199, 232),\n",
    "    'deep_orange' :  (255, 127, 14), 'light_orange' : (255, 187, 120), \n",
    "    'deep_green' :(44, 160, 44), 'light_green' : (152, 223, 138),\n",
    "    'deep_red' : (214, 39, 40), 'light_red' : (255, 152, 150), \n",
    "    'deep_violet' : (148, 103, 189), 'light_violet' : (197, 176, 213), \n",
    "    'deep_brown' : (140, 86, 75), 'light_brown': (196, 156, 148), \n",
    "    'deep_pink' : (227, 119, 194), 'light_pink' : (247, 182, 210), \n",
    "    'deep_gray' : (127, 127, 127), 'light_gray' : (199, 199, 199), \n",
    "    'deep_olive' : (188, 189, 34), 'light_olive' : (219, 219, 141), \n",
    "    'deep_cyan' : (23, 190, 207), 'light_cyan' : (158, 218, 229)\n",
    "}\n",
    "\n",
    "for key in tableau20.keys():    \n",
    "    r, g, b = tableau20[key]    \n",
    "    tableau20[key] = (r / 255., g / 255., b / 255.)"
   ]
  },
  {
   "cell_type": "markdown",
   "metadata": {},
   "source": [
    "*****\n",
    "# Framing the Problem\n",
    "\n",
    "Here we set up the problem described in the [blog post](https://swebb.io), specifically that of a drunk person trying to walk down the street, and what is the probability that, starting on the left side of the street, they finish on the left side in front of their apartment building. We say that they want to be in the left sidewalk, so the probability that if they stay on the left sidewalk at the next step is 80%, and 20% that they end up in the street. Once they get in the street, they want to get on a sidewalk but get indecisive, so it's equal probability that they stay in the street versus pick either sidewalk. If they end up in the right sidewalk, they really want to get back to the left sidewalk, so there's an 80% chance they go back into the street and a 20% chance they stick around in that sidewalk.\n",
    "\n",
    "In this case, the transition matrix is:\n",
    "\n",
    "$$T = \\left ( \\begin{array}{ccc} 4/5 & 1/3 & 0 \\\\ 1/5 & 1/3 & 4/5 \\\\ 0 & 1/3  & 1/5 \\end{array} \\right )$$"
   ]
  },
  {
   "cell_type": "code",
   "execution_count": 58,
   "metadata": {},
   "outputs": [
    {
     "data": {
      "text/plain": [
       "matrix([[0.8       , 0.33333333, 0.        ],\n",
       "        [0.2       , 0.33333333, 0.8       ],\n",
       "        [0.        , 0.33333333, 0.2       ]])"
      ]
     },
     "execution_count": 58,
     "metadata": {},
     "output_type": "execute_result"
    }
   ],
   "source": [
    "T_matrix = np.mat([[0.8, 0.2, 0.],\n",
    "                   [1./3, 1./3, 1./3],\n",
    "                   [0., 0.8, 0.2]]).transpose()\n",
    "T_matrix.view()"
   ]
  },
  {
   "cell_type": "markdown",
   "metadata": {},
   "source": [
    "*****\n",
    "# Equilibrium Distribution\n",
    "\n",
    "Here we compute the equilibrium distribution. We know from the properties of transition matrices that the equilibrium probability distribution is the properly normalized left eigenvector $\\vec{\\pi} = \\vec{v} \\big / \\sum_i v_i$ corresponding to the eigenvalue $1$."
   ]
  },
  {
   "cell_type": "code",
   "execution_count": 59,
   "metadata": {},
   "outputs": [
    {
     "name": "stdout",
     "output_type": "stream",
     "text": [
      "for eigenvalue 1.0000000000000002\n",
      "eigenvector: [[-0.83844362 -0.50306617 -0.2096109 ]]\n",
      "for eigenvalue 0.6151208015691236\n",
      "eigenvector: [[ 0.81487644 -0.45196111 -0.36291533]]\n",
      "for eigenvalue -0.2817874682357903\n",
      "eigenvector: [[ 0.24563257 -0.7971667   0.55153413]]\n"
     ]
    }
   ],
   "source": [
    "# import the eigensystem library\n",
    "from numpy.linalg import eig\n",
    "\n",
    "eigs, vecs = eig(T_matrix)\n",
    "\n",
    "for idx, eigval in enumerate(eigs):\n",
    "    print('for eigenvalue {}'.format(eigval))\n",
    "    print('eigenvector: {}'.format(vecs.transpose()[idx]))"
   ]
  },
  {
   "cell_type": "markdown",
   "metadata": {},
   "source": [
    "The first eigenvalue is the maximum eigenvalue, so we can compute the normalized $\\vec{\\pi}$ by renormalizing that eigenvector:"
   ]
  },
  {
   "cell_type": "code",
   "execution_count": 60,
   "metadata": {},
   "outputs": [
    {
     "name": "stdout",
     "output_type": "stream",
     "text": [
      "equilibrium distribution: \n",
      " [[0.54054054]\n",
      " [0.32432432]\n",
      " [0.13513514]]\n"
     ]
    }
   ],
   "source": [
    "pi_vec = (vecs.transpose()[0]/np.sum(vecs.transpose()[0])).reshape(1,3)\n",
    "\n",
    "print('equilibrium distribution: \\n {}'.format(pi_vec.transpose()))"
   ]
  },
  {
   "cell_type": "markdown",
   "metadata": {},
   "source": [
    "From this we can conclude that, for a sufficiently long walk, there is about a 38.5% chance you finish on the correct side of the street."
   ]
  },
  {
   "cell_type": "markdown",
   "metadata": {},
   "source": [
    "*****\n",
    "# The Long Walk\n",
    "\n",
    "This equilibrium distribution is the outcome of a long walk, but it can take a while to reach that equilibrium from an initial condition, depending on the size of the next-largest eigenvalue. Here we do a numerical experiment, applying $T$ repeatedly to the probability to watch it converge to equilibrium."
   ]
  },
  {
   "cell_type": "code",
   "execution_count": 63,
   "metadata": {},
   "outputs": [
    {
     "name": "stdout",
     "output_type": "stream",
     "text": [
      "(3, 11)\n"
     ]
    }
   ],
   "source": [
    "n_steps = 10\n",
    "\n",
    "prob_vec = np.array([[1., 0, 0]]).transpose()\n",
    "prob_hist = [prob_vec]\n",
    "\n",
    "for step in range(n_steps):\n",
    "    prob_vec = np.matmul(T_matrix, prob_vec)\n",
    "    prob_hist.append(prob_vec)\n",
    "    \n",
    "prob_hist = np.array(prob_hist).transpose().reshape(3,n_steps+1)\n",
    "print(np.shape(prob_hist))"
   ]
  },
  {
   "cell_type": "code",
   "execution_count": 64,
   "metadata": {},
   "outputs": [
    {
     "data": {
      "image/png": "[encoded data removed]",
      "text/plain": [
       "<Figure size 684x432 with 1 Axes>"
      ]
     },
     "metadata": {
      "needs_background": "light"
     },
     "output_type": "display_data"
    }
   ],
   "source": [
    "labels = ['left sidewalk', 'street', 'right sidewalk']\n",
    "colors = ['deep_blue', 'light_gray', 'deep_red']\n",
    "fig, ax = plt.subplots()\n",
    "for idx in range(3):\n",
    "    ax.plot(prob_hist[idx], label=labels[idx], color=tableau20[colors[idx]])\n",
    "    ax.plot(np.ones(n_steps+1)*pi_vec[0,idx], color=tableau20[colors[idx]], linestyle='dashdot', alpha=0.5)\n",
    "    \n",
    "ax.set_xlabel(r'$P$')\n",
    "ax.set_ylabel(r'step')\n",
    "ax.set_title('Random Walk to Equilibrium')\n",
    "fig.legend()\n",
    "fig.tight_layout()\n",
    "fig.savefig('../figs/random_walk.png')\n",
    "\n",
    "pass;"
   ]
  },
  {
   "cell_type": "code",
   "execution_count": null,
   "metadata": {},
   "outputs": [],
   "source": []
  }
 ],
 "metadata": {
  "kernelspec": {
   "display_name": "Python 3",
   "language": "python",
   "name": "python3"
  },
  "language_info": {
   "codemirror_mode": {
    "name": "ipython",
    "version": 3
   },
   "file_extension": ".py",
   "mimetype": "text/x-python",
   "name": "python",
   "nbconvert_exporter": "python",
   "pygments_lexer": "ipython3",
   "version": "3.7.9"
  }
 },
 "nbformat": 4,
 "nbformat_minor": 4
}
