{
 "cells": [
  {
   "cell_type": "markdown",
   "metadata": {},
   "source": [
    "# Sommelier Digital\n",
    "\n",
    "Using tasting notes scraped from Wine Enthusiast by [Kaggle](https://www.kaggle.com/zynicide/wine-reviews) user [zachthoutt](https://www.kaggle.com/zynicide) to make new recommendations for wines based on similar tasting notes.\n",
    "\n",
    "This will be a content-based recommender —- we will use wine reviews to find similar wines based on how their tasting notes describe them, then make a recommendation by looking at both the Wine Enthusiast score (higher score is better) and price (more expensive wines will be penalized)."
   ]
  },
  {
   "cell_type": "markdown",
   "metadata": {},
   "source": [
    "*****\n",
    "## Imports & Data Reading\n",
    "\n",
    "We will need pandas to read in the data, as well as scikit-surprise to build a simple recommender."
   ]
  },
  {
   "cell_type": "code",
   "execution_count": 1,
   "metadata": {},
   "outputs": [],
   "source": [
    "import pandas as pd\n",
    "\n",
    "from sklearn.feature_extraction.text import CountVectorizer\n",
    "\n",
    "import numpy as np\n",
    "\n",
    "import re"
   ]
  },
  {
   "cell_type": "markdown",
   "metadata": {},
   "source": [
    "*****\n",
    "## Exploratory data analysis\n",
    "\n",
    "Take a look at what we've got"
   ]
  },
  {
   "cell_type": "code",
   "execution_count": 2,
   "metadata": {},
   "outputs": [
    {
     "data": {
      "text/html": [
       "<div>\n",
       "<style scoped>\n",
       "    .dataframe tbody tr th:only-of-type {\n",
       "        vertical-align: middle;\n",
       "    }\n",
       "\n",
       "    .dataframe tbody tr th {\n",
       "        vertical-align: top;\n",
       "    }\n",
       "\n",
       "    .dataframe thead th {\n",
       "        text-align: right;\n",
       "    }\n",
       "</style>\n",
       "<table border=\"1\" class=\"dataframe\">\n",
       "  <thead>\n",
       "    <tr style=\"text-align: right;\">\n",
       "      <th></th>\n",
       "      <th>Unnamed: 0</th>\n",
       "      <th>country</th>\n",
       "      <th>description</th>\n",
       "      <th>designation</th>\n",
       "      <th>points</th>\n",
       "      <th>price</th>\n",
       "      <th>province</th>\n",
       "      <th>region_1</th>\n",
       "      <th>region_2</th>\n",
       "      <th>variety</th>\n",
       "      <th>winery</th>\n",
       "    </tr>\n",
       "  </thead>\n",
       "  <tbody>\n",
       "    <tr>\n",
       "      <th>0</th>\n",
       "      <td>0</td>\n",
       "      <td>US</td>\n",
       "      <td>This tremendous 100% varietal wine hails from ...</td>\n",
       "      <td>Martha's Vineyard</td>\n",
       "      <td>0.96</td>\n",
       "      <td>235.0</td>\n",
       "      <td>California</td>\n",
       "      <td>Napa Valley</td>\n",
       "      <td>Napa</td>\n",
       "      <td>Cabernet Sauvignon</td>\n",
       "      <td>Heitz</td>\n",
       "    </tr>\n",
       "    <tr>\n",
       "      <th>1</th>\n",
       "      <td>1</td>\n",
       "      <td>Spain</td>\n",
       "      <td>Ripe aromas of fig, blackberry and cassis are ...</td>\n",
       "      <td>Carodorum Selección Especial Reserva</td>\n",
       "      <td>0.96</td>\n",
       "      <td>110.0</td>\n",
       "      <td>Northern Spain</td>\n",
       "      <td>Toro</td>\n",
       "      <td>NaN</td>\n",
       "      <td>Tinta de Toro</td>\n",
       "      <td>Bodega Carmen Rodríguez</td>\n",
       "    </tr>\n",
       "    <tr>\n",
       "      <th>2</th>\n",
       "      <td>2</td>\n",
       "      <td>US</td>\n",
       "      <td>Mac Watson honors the memory of a wine once ma...</td>\n",
       "      <td>Special Selected Late Harvest</td>\n",
       "      <td>0.96</td>\n",
       "      <td>90.0</td>\n",
       "      <td>California</td>\n",
       "      <td>Knights Valley</td>\n",
       "      <td>Sonoma</td>\n",
       "      <td>Sauvignon Blanc</td>\n",
       "      <td>Macauley</td>\n",
       "    </tr>\n",
       "    <tr>\n",
       "      <th>3</th>\n",
       "      <td>3</td>\n",
       "      <td>US</td>\n",
       "      <td>This spent 20 months in 30% new French oak, an...</td>\n",
       "      <td>Reserve</td>\n",
       "      <td>0.96</td>\n",
       "      <td>65.0</td>\n",
       "      <td>Oregon</td>\n",
       "      <td>Willamette Valley</td>\n",
       "      <td>Willamette Valley</td>\n",
       "      <td>Pinot Noir</td>\n",
       "      <td>Ponzi</td>\n",
       "    </tr>\n",
       "    <tr>\n",
       "      <th>4</th>\n",
       "      <td>4</td>\n",
       "      <td>France</td>\n",
       "      <td>This is the top wine from La Bégude, named aft...</td>\n",
       "      <td>La Brûlade</td>\n",
       "      <td>0.95</td>\n",
       "      <td>66.0</td>\n",
       "      <td>Provence</td>\n",
       "      <td>Bandol</td>\n",
       "      <td>NaN</td>\n",
       "      <td>Provence red blend</td>\n",
       "      <td>Domaine de la Bégude</td>\n",
       "    </tr>\n",
       "  </tbody>\n",
       "</table>\n",
       "</div>"
      ],
      "text/plain": [
       "   Unnamed: 0 country                                        description  \\\n",
       "0           0      US  This tremendous 100% varietal wine hails from ...   \n",
       "1           1   Spain  Ripe aromas of fig, blackberry and cassis are ...   \n",
       "2           2      US  Mac Watson honors the memory of a wine once ma...   \n",
       "3           3      US  This spent 20 months in 30% new French oak, an...   \n",
       "4           4  France  This is the top wine from La Bégude, named aft...   \n",
       "\n",
       "                            designation  points  price        province  \\\n",
       "0                     Martha's Vineyard    0.96  235.0      California   \n",
       "1  Carodorum Selección Especial Reserva    0.96  110.0  Northern Spain   \n",
       "2         Special Selected Late Harvest    0.96   90.0      California   \n",
       "3                               Reserve    0.96   65.0          Oregon   \n",
       "4                            La Brûlade    0.95   66.0        Provence   \n",
       "\n",
       "            region_1           region_2             variety  \\\n",
       "0        Napa Valley               Napa  Cabernet Sauvignon   \n",
       "1               Toro                NaN       Tinta de Toro   \n",
       "2     Knights Valley             Sonoma     Sauvignon Blanc   \n",
       "3  Willamette Valley  Willamette Valley          Pinot Noir   \n",
       "4             Bandol                NaN  Provence red blend   \n",
       "\n",
       "                    winery  \n",
       "0                    Heitz  \n",
       "1  Bodega Carmen Rodríguez  \n",
       "2                 Macauley  \n",
       "3                    Ponzi  \n",
       "4     Domaine de la Bégude  "
      ]
     },
     "execution_count": 2,
     "metadata": {},
     "output_type": "execute_result"
    }
   ],
   "source": [
    "# read in the initial data\n",
    "\n",
    "df = pd.read_csv('../data/winemag-data_first150k.csv')\n",
    "\n",
    "# rescale the points to [0,1]\n",
    "df['points'] = df['points']/100.\n",
    "df.head()"
   ]
  },
  {
   "cell_type": "code",
   "execution_count": 3,
   "metadata": {},
   "outputs": [
    {
     "name": "stdout",
     "output_type": "stream",
     "text": [
      "['This tremendous 100% varietal wine hails from Oakville and was aged over three years in oak. Juicy red-cherry fruit and a compelling hint of caramel greet the palate, framed by elegant, fine tannins and a subtle minty tone in the background. Balanced and rewarding from start to finish, it has years ahead of it to develop further nuance. Enjoy 2022–2030.'\n",
      " 'Ripe aromas of fig, blackberry and cassis are softened and sweetened by a slathering of oaky chocolate and vanilla. This is full, layered, intense and cushioned on the palate, with rich flavors of chocolaty black fruits and baking spices. A toasty, everlasting finish is heady but ideally balanced. Drink through 2023.'\n",
      " 'Mac Watson honors the memory of a wine once made by his mother in this tremendously delicious, balanced and complex botrytised white. Dark gold in color, it layers toasted hazelnut, pear compote and orange peel flavors, reveling in the succulence of its 122 g/L of residual sugar.'\n",
      " ...\n",
      " 'This classic example comes from a cru vineyard called Terre di Dora, which is named after the Mastroberardinos’ mother. They should all be proud of this one. Wet stones, apples, peaches and pears start it off. On the palate, the structure and mouthfeel are nearly perfect. The finish features the butterscotch tones of malolactic fermentation. A wonderful example of what Fiano di Avellino can be.'\n",
      " 'A perfect salmon shade, with scents of peaches, cherries and toast. It hits the palate with big, ripe, fresh fruit: crisp apples, peaches, cherries and citrus. Concentrated and full, with a tart, fresh back end that lingers into a cherry-vanilla finish.'\n",
      " 'More Pinot Grigios should taste like this. A rich pear-like nose is followed by crisp acidity, a medium body and a viscous mouthfeel. The finish is long and redolent of pears and citrus. And all for $15!']\n"
     ]
    }
   ],
   "source": [
    "words = pd.Series([x for x in df['description'].values])\n",
    "corpus = words.values\n",
    "print(corpus)"
   ]
  },
  {
   "cell_type": "markdown",
   "metadata": {},
   "source": [
    "### Read in Bag of Words\n",
    "\n",
    "We need to map the vocabulary to a bag of words. This leads to an enormous vocabulary, so eventually we will cut off words that do not appear in more than some threshold number of reviews, to eliminate words that aren't common descriptors of wine. We'll also remove commonly appearing words that don't say anything useful about the wine, from data exploration, and contract some common signifiers that mean the same thing, like \"acid\" and \"acidity\"."
   ]
  },
  {
   "cell_type": "code",
   "execution_count": 34,
   "metadata": {},
   "outputs": [],
   "source": [
    "# minimum fraction of documents in the corpus a vocabulary word appears in, to eliminate\n",
    "# uncommon descriptors\n",
    "appearance_rate = .0005\n",
    "max_count = 50\n",
    "\n",
    "# keep hyphenated words as a single word\n",
    "pattern = \"(?u)\\\\b[\\\\w-]+\\\\b\""
   ]
  },
  {
   "cell_type": "code",
   "execution_count": 44,
   "metadata": {},
   "outputs": [],
   "source": [
    "# want to remove numbers, underscores, adverbs, and possessives from the vocabulary\n",
    "\n",
    "# some common wine review words to get rid of because they aren't helpful\n",
    "# derived from data exploration\n",
    "evil_words = ['wine', 'flavor', 'finish', 'offer', 'like', 'texture', \n",
    "              'note', 'hint', 'good', 'bad', 'great', 'nice', 'year', \n",
    "              'kind', 'away', 'time', 'perfect', 'color', 'feel', 'just', \n",
    "              'palate', 'best', 'grape', 'tremendous', 'enjoy', 'age', \n",
    "              'elegant', 'hail', 'background']\n",
    "\n",
    "# words that come up as roots of other words, so acid = acidity, etc.\n",
    "flatten_words = ['acid', 'sweet', 'fruit', 'tannin']\n",
    "\n",
    "def preprocess_text(text):\n",
    "    text = text.lower()\n",
    "    text = re.sub(r'\\d+', '', text) # remove numbers\n",
    "    text = re.sub(r'\\b(\\w+ly)\\b', '', text) # remove adverbs\n",
    "    text = re.sub(r'\\b\\w{0,3}\\b', '', text) # remove words under 3 characters\n",
    "    text = text.replace('_', '-')\n",
    "    \n",
    "    # get rid of common meaningless words\n",
    "    for word in evil_words:\n",
    "        text = re.sub(r'\\w*{}\\w*'.format(word), '', text)\n",
    "        text = re.sub(r'\\b({})\\b'.format(word), '', text)\n",
    "        \n",
    "    # convert synonyms to the root\n",
    "    for word in flatten_words:\n",
    "        text = re.sub(r'\\w*{}\\w*'.format(word), word, text)\n",
    "        \n",
    "    return text"
   ]
  },
  {
   "cell_type": "code",
   "execution_count": 45,
   "metadata": {},
   "outputs": [],
   "source": [
    "vectorizer = CountVectorizer(stop_words='english', \n",
    "                             preprocessor=preprocess_text, \n",
    "                             token_pattern=pattern,\n",
    "                             strip_accents='ascii',\n",
    "                             min_df=appearance_rate,\n",
    "                             ngram_range=(1,4))\n",
    "X = vectorizer.fit_transform(corpus)\n",
    "vocabulary = vectorizer.get_feature_names()"
   ]
  },
  {
   "cell_type": "code",
   "execution_count": 46,
   "metadata": {},
   "outputs": [
    {
     "name": "stdout",
     "output_type": "stream",
     "text": [
      "size of vocabulary = 6101\n"
     ]
    }
   ],
   "source": [
    "# Summarize the data\n",
    "print('size of vocabulary = {}'.format(np.shape(X)[1]))\n",
    "\n",
    "#count_values = X.toarray().sum(axis=0)\n",
    "#print('most common words are')\n",
    "# output n-grams\n",
    "#for ng_count, ng_text in sorted([(count_values[i],k) for k,i in vectorizer.vocabulary_.items()], reverse=True):\n",
    "#    print(ng_count, ng_text)"
   ]
  },
  {
   "cell_type": "markdown",
   "metadata": {},
   "source": [
    "Look at how a few wines get described with our bag-o-words, to see if we get something that makes sense"
   ]
  },
  {
   "cell_type": "code",
   "execution_count": 48,
   "metadata": {},
   "outputs": [
    {
     "name": "stdout",
     "output_type": "stream",
     "text": [
      "[array(['juicy', 'fruit', 'ripe', 'delicious', 'white', 'pear', 'aromatic',\n",
      "       'structure', 'citrus', 'elegance', 'complexity', 'come',\n",
      "       'gorgeous', 'ranks', 'whites', 'opens', 'yellow', 'spring',\n",
      "       'flower', 'herb', 'orchard', 'scents', 'creamy', 'combines',\n",
      "       'peach', 'almond', 'savory', 'mineral', 'grace', 'lingering',\n",
      "       'orchard fruit', 'fruit scents', 'white peach', 'ripe pear',\n",
      "       'pear citrus', 'citrus white', 'white almond'], dtype='<U35')]\n",
      "[array(['juicy', 'aromas', 'cassis', 'chocolate', 'baking', 'toasty',\n",
      "       'drink', 'deep', 'pure', 'long', 'long drink', 'berry',\n",
      "       'integrated', 'peppery', 'spice', 'forward', 'baking spice',\n",
      "       'pepper', 'blend', 'cabernet', 'franc', 'petit', 'verdot',\n",
      "       'cabernet franc', 'petit verdot', 'tight', 'blend cabernet',\n",
      "       'merlot', 'sauvignon', 'cabernet sauvignon', 'bold',\n",
      "       'verdot cabernet', 'petit verdot cabernet',\n",
      "       'verdot cabernet franc', 'petit verdot cabernet franc', 'racy',\n",
      "       'berry aromas', 'bordeaux-style', 'bordeaux-style blend',\n",
      "       'blend cabernet sauvignon', 'franc merlot',\n",
      "       'cabernet franc merlot', 'cassis berry', 'sauvignon petit',\n",
      "       'bold berry', 'berry pepper', 'spice chocolate',\n",
      "       'cabernet sauvignon petit', 'sauvignon petit verdot',\n",
      "       'cabernet sauvignon petit verdot'], dtype='<U35')]\n"
     ]
    }
   ],
   "source": [
    "print(vectorizer.inverse_transform(X[10]))\n",
    "print(vectorizer.inverse_transform(X[537]))"
   ]
  },
  {
   "cell_type": "markdown",
   "metadata": {},
   "source": [
    "*****\n",
    "## Candidate Generation Model\n",
    "\n",
    "We will generate candidate wines by looking for wines from the corpus of wine reviews most similar in profile to an input wine. We will use bag-of-words to generate the feature vectors of wine reviews from the EDA above to define the vocabulary."
   ]
  },
  {
   "cell_type": "code",
   "execution_count": null,
   "metadata": {},
   "outputs": [],
   "source": []
  },
  {
   "cell_type": "markdown",
   "metadata": {},
   "source": [
    "*****\n",
    "## Scoring Model\n",
    "\n",
    "The candidates we choose will be similar to the wine we're asking to compare. To sort them into recommendations, we will sort by the score, and punish for being more or less expensive."
   ]
  },
  {
   "cell_type": "code",
   "execution_count": null,
   "metadata": {},
   "outputs": [],
   "source": []
  }
 ],
 "metadata": {
  "kernelspec": {
   "display_name": "Python 3",
   "language": "python",
   "name": "python3"
  },
  "language_info": {
   "codemirror_mode": {
    "name": "ipython",
    "version": 3
   },
   "file_extension": ".py",
   "mimetype": "text/x-python",
   "name": "python",
   "nbconvert_exporter": "python",
   "pygments_lexer": "ipython3",
   "version": "3.7.9"
  }
 },
 "nbformat": 4,
 "nbformat_minor": 4
}
